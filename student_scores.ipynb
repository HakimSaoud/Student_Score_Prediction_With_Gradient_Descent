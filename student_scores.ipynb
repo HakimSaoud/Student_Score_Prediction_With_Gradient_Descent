{
 "cells": [
  {
   "metadata": {
    "collapsed": true,
    "ExecuteTime": {
     "end_time": "2024-11-21T23:04:36.091744Z",
     "start_time": "2024-11-21T23:04:36.088747Z"
    }
   },
   "cell_type": "code",
   "outputs": [],
   "execution_count": 15,
   "source": [
    "import pandas as pd\n",
    "import matplotlib.pyplot as plt\n",
    "import numpy as np"
   ],
   "id": "initial_id"
  },
  {
   "metadata": {
    "ExecuteTime": {
     "end_time": "2024-11-21T23:04:36.151250Z",
     "start_time": "2024-11-21T23:04:36.141276Z"
    }
   },
   "cell_type": "code",
   "outputs": [
    {
     "data": {
      "text/plain": [
       "   Hours  Scores\n",
       "0    2.5      21\n",
       "1    5.1      47\n",
       "2    3.2      27\n",
       "3    8.5      75\n",
       "4    3.5      30"
      ],
      "text/html": [
       "<div>\n",
       "<style scoped>\n",
       "    .dataframe tbody tr th:only-of-type {\n",
       "        vertical-align: middle;\n",
       "    }\n",
       "\n",
       "    .dataframe tbody tr th {\n",
       "        vertical-align: top;\n",
       "    }\n",
       "\n",
       "    .dataframe thead th {\n",
       "        text-align: right;\n",
       "    }\n",
       "</style>\n",
       "<table border=\"1\" class=\"dataframe\">\n",
       "  <thead>\n",
       "    <tr style=\"text-align: right;\">\n",
       "      <th></th>\n",
       "      <th>Hours</th>\n",
       "      <th>Scores</th>\n",
       "    </tr>\n",
       "  </thead>\n",
       "  <tbody>\n",
       "    <tr>\n",
       "      <th>0</th>\n",
       "      <td>2.5</td>\n",
       "      <td>21</td>\n",
       "    </tr>\n",
       "    <tr>\n",
       "      <th>1</th>\n",
       "      <td>5.1</td>\n",
       "      <td>47</td>\n",
       "    </tr>\n",
       "    <tr>\n",
       "      <th>2</th>\n",
       "      <td>3.2</td>\n",
       "      <td>27</td>\n",
       "    </tr>\n",
       "    <tr>\n",
       "      <th>3</th>\n",
       "      <td>8.5</td>\n",
       "      <td>75</td>\n",
       "    </tr>\n",
       "    <tr>\n",
       "      <th>4</th>\n",
       "      <td>3.5</td>\n",
       "      <td>30</td>\n",
       "    </tr>\n",
       "  </tbody>\n",
       "</table>\n",
       "</div>"
      ]
     },
     "execution_count": 16,
     "metadata": {},
     "output_type": "execute_result"
    }
   ],
   "execution_count": 16,
   "source": [
    "data = pd.read_csv('student_scores.csv')\n",
    "data.head()"
   ],
   "id": "a98c95b60aec9fc5"
  },
  {
   "metadata": {
    "ExecuteTime": {
     "end_time": "2024-11-21T23:04:36.214103Z",
     "start_time": "2024-11-21T23:04:36.207612Z"
    }
   },
   "cell_type": "code",
   "source": [
    "x_train = data.iloc[:int(len(data)*0.8)].Hours\n",
    "y_train = data.iloc[:int(len(data)*0.8)].Scores\n",
    "\n",
    "x_test = data.iloc[int(len(data)*0.8):].Hours\n",
    "y_test = data.iloc[int(len(data)*0.8):].Scores\n",
    "\n"
   ],
   "id": "bd961fc6af1068ec",
   "outputs": [],
   "execution_count": 17
  },
  {
   "metadata": {
    "ExecuteTime": {
     "end_time": "2024-11-21T23:04:36.278889Z",
     "start_time": "2024-11-21T23:04:36.271545Z"
    }
   },
   "cell_type": "code",
   "source": [
    "class LinearRegression:\n",
    "    def loss_fuction(self, a, b ,x_train, y_train):\n",
    "        total_error = 0\n",
    "        for i in range(len(x_train)):\n",
    "            x = x_train[i]\n",
    "            y = y_train[i]\n",
    "            predicted = a * x + b\n",
    "            total_error += (y - predicted)**2\n",
    "        total_error = total_error/len(x_train)\n",
    "        return total_error\n",
    "\n",
    "    def gradient_descent(self,a,b,x_train, y_train, learning_rate):\n",
    "        a_gradient = 0\n",
    "        b_gradient = 0\n",
    "        n=len(x_train)\n",
    "        for i in range(n):\n",
    "            x = x_train[i]\n",
    "            y = y_train[i]\n",
    "            pred = a * x + b \n",
    "            a_gradient += -(2/n)*x*(y - pred)\n",
    "            b_gradient += -(2/n)*(y-pred)\n",
    "        step_a = a_gradient*learning_rate\n",
    "        step_b = b_gradient*learning_rate\n",
    "        new_a = a - step_a\n",
    "        new_b = b - step_b\n",
    "        return new_a,new_b\n",
    "    def predict(self, x_test):\n",
    "        return [round(a * x + b, 2) for x in x_test]\n",
    "\n",
    "    def score(self, predictions, y_test):\n",
    "        rmse = 0\n",
    "        y_test = np.array(y_test)\n",
    "        predictions = np.array(predictions)\n",
    "        n = len(y_test)\n",
    "        for i in range(n):\n",
    "            rmse += (predictions[i] - y_test[i])**2\n",
    "        return np.sqrt(rmse/n)\n"
   ],
   "id": "86a4ae4f4064e945",
   "outputs": [],
   "execution_count": 18
  },
  {
   "metadata": {
    "ExecuteTime": {
     "end_time": "2024-11-21T23:04:36.441386Z",
     "start_time": "2024-11-21T23:04:36.329685Z"
    }
   },
   "cell_type": "code",
   "source": [
    "learning_rate = 0.001\n",
    "a = 1\n",
    "b = 0\n",
    "epochs = 1000\n",
    "model = LinearRegression()\n",
    "for i in range(epochs):\n",
    "    a , b = model.gradient_descent(a,b,x_train,y_train,learning_rate)\n",
    "    if i % 50 == 0:\n",
    "        print(f\"the value of a = {a:.4f} , b = {b:.4f}\")\n",
    "print(f\"the final value of a = {a:.4f} , b = {b:.4f}\")"
   ],
   "id": "1a438a1227fe1bc5",
   "outputs": [
    {
     "name": "stdout",
     "output_type": "stream",
     "text": [
      "the value of a = 1.5650 , b = 0.0907\n",
      "the value of a = 9.4798 , b = 1.3856\n",
      "the value of a = 9.7591 , b = 1.4641\n",
      "the value of a = 9.7641 , b = 1.4982\n",
      "the value of a = 9.7594 , b = 1.5300\n",
      "the value of a = 9.7545 , b = 1.5611\n",
      "the value of a = 9.7496 , b = 1.5916\n",
      "the value of a = 9.7449 , b = 1.6214\n",
      "the value of a = 9.7402 , b = 1.6507\n",
      "the value of a = 9.7357 , b = 1.6793\n",
      "the value of a = 9.7312 , b = 1.7073\n",
      "the value of a = 9.7268 , b = 1.7348\n",
      "the value of a = 9.7226 , b = 1.7616\n",
      "the value of a = 9.7184 , b = 1.7879\n",
      "the value of a = 9.7143 , b = 1.8137\n",
      "the value of a = 9.7102 , b = 1.8390\n",
      "the value of a = 9.7063 , b = 1.8637\n",
      "the value of a = 9.7025 , b = 1.8879\n",
      "the value of a = 9.6987 , b = 1.9116\n",
      "the value of a = 9.6950 , b = 1.9348\n",
      "the final value of a = 9.6914 , b = 1.9571\n"
     ]
    }
   ],
   "execution_count": 19
  },
  {
   "metadata": {
    "ExecuteTime": {
     "end_time": "2024-11-21T23:04:36.587460Z",
     "start_time": "2024-11-21T23:04:36.450969Z"
    }
   },
   "cell_type": "code",
   "source": [
    "plt.scatter(x_train,y_train)\n",
    "plt.plot(x_train,model.predict(x_train),color='red')\n",
    "plt.xlabel(\"Hours of Study\")\n",
    "plt.ylabel(\"Scores\")\n",
    "plt.title('Linear Regression with Gradient Descent')\n",
    "plt.show()\n"
   ],
   "id": "2f0f4ac19e571a64",
   "outputs": [
    {
     "data": {
      "text/plain": [
       "<Figure size 640x480 with 1 Axes>"
      ],
      "image/png": "[encoded data removed]"
     },
     "metadata": {},
     "output_type": "display_data"
    }
   ],
   "execution_count": 20
  },
  {
   "metadata": {
    "ExecuteTime": {
     "end_time": "2024-11-21T23:04:36.602194Z",
     "start_time": "2024-11-21T23:04:36.598203Z"
    }
   },
   "cell_type": "code",
   "source": [
    "print(model.predict(x_test))\n",
    "print(np.array(y_test))"
   ],
   "id": "5b537cd9338758cd",
   "outputs": [
    {
     "name": "stdout",
     "output_type": "stream",
     "text": [
      "[28.12, 48.48, 38.78, 68.83, 77.55, 64.95]\n",
      "[30 54 35 76 86 70]\n"
     ]
    }
   ],
   "execution_count": 21
  }
 ],
 "metadata": {
  "kernelspec": {
   "display_name": "Python 3",
   "language": "python",
   "name": "python3"
  },
  "language_info": {
   "codemirror_mode": {
    "name": "ipython",
    "version": 2
   },
   "file_extension": ".py",
   "mimetype": "text/x-python",
   "name": "python",
   "nbconvert_exporter": "python",
   "pygments_lexer": "ipython2",
   "version": "2.7.6"
  }
 },
 "nbformat": 4,
 "nbformat_minor": 5
}
